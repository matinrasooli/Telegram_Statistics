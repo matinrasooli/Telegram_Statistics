{
 "cells": [
  {
   "cell_type": "code",
   "execution_count": 58,
   "id": "5628d061-2803-4d6a-b48d-580034d9ed29",
   "metadata": {},
   "outputs": [],
   "source": [
    "import json\n",
    "from src.data import DATA_DIR\n",
    "from hazm import word_tokenize, sent_tokenize\n",
    "from hazm import *\n",
    "import nltk\n",
    "from collections import Counter\n",
    "from src.utils.io import read_file"
   ]
  },
  {
   "cell_type": "code",
   "execution_count": 59,
   "id": "14caf776-3286-42cd-9889-b91bd39cba29",
   "metadata": {},
   "outputs": [],
   "source": [
    "stopwords = set(read_file(DATA_DIR / 'stopwords.txt').split('\\n'))\n"
   ]
  },
  {
   "cell_type": "code",
   "execution_count": 60,
   "id": "c5780a7a-b09f-4c40-be30-f38539e1697e",
   "metadata": {},
   "outputs": [],
   "source": [
    "with open(DATA_DIR / 'online.json') as f :\n",
    "    data = json.load(f)"
   ]
  },
  {
   "cell_type": "code",
   "execution_count": 61,
   "id": "0ee94822-b49c-484f-9b84-ffe252b10a2e",
   "metadata": {},
   "outputs": [],
   "source": [
    "messages = iter(data['messages'])"
   ]
  },
  {
   "cell_type": "code",
   "execution_count": 62,
   "id": "cd22629f-9a0b-4023-8f75-b796127bbaf2",
   "metadata": {},
   "outputs": [],
   "source": [
    "def rebuild_msg(sub_messages):\n",
    "    msg_text=''\n",
    "    for sub_msg in sub_messages:\n",
    "        if isinstance(sub_msg, str):\n",
    "            msg_text += sub_msg\n",
    "        elif 'text' in sub_msg:\n",
    "            msg_text += sub_msg['text']\n",
    "    return msg_text"
   ]
  },
  {
   "cell_type": "code",
   "execution_count": 63,
   "id": "6d9de51b-4f30-4e0b-879f-57adf53cd9af",
   "metadata": {},
   "outputs": [
    {
     "name": "stdout",
     "output_type": "stream",
     "text": [
      "\n"
     ]
    }
   ],
   "source": [
    "for msg in messages:\n",
    "    print(msg['text'])\n",
    "    break"
   ]
  },
  {
   "cell_type": "markdown",
   "id": "a5c647e6-2c53-45f4-943e-1812dd867565",
   "metadata": {},
   "source": [
    "# Detect Questions"
   ]
  },
  {
   "cell_type": "code",
   "execution_count": 64,
   "id": "543b8faf-8eec-47a7-91aa-6c2cf5bebcf8",
   "metadata": {},
   "outputs": [],
   "source": [
    "# q_msg = []\n",
    "\n",
    "# q_tokens = []\n",
    "# for msg in data['messages']:\n",
    "#     if not isinstance(msg['text'], str):\n",
    "#         msg['text'] = rebuild_msg(msg['text'])\n",
    "#     sentences = sent_tokenize(msg['text'])\n",
    "#     for sentence in sentences:\n",
    "#         if \"?\" in msg['text'] or \"؟\" in msg['text']:\n",
    "#             continue\n",
    "#         q_msg.append(msg['text'])\n",
    "#         tokens = word_tokenize(msg['text'])\n",
    "#         q_tokens.extend(tokens)\n",
    "        \n",
    "is_question = defaultdict(bool)\n",
    "for msg in data['messages']:\n",
    "    if not isinstance(msg['text'], str):\n",
    "        msg['text'] = rebuild_msg(msg['text'])\n",
    "    sentences = sent_tokenize(msg['text'])\n",
    "    for sentence in sentences:\n",
    "        if \"?\" in msg['text'] or \"؟\" in msg['text']:\n",
    "            continue\n",
    "        is_question[msg['id']] = True\n",
    "        break"
   ]
  },
  {
   "cell_type": "code",
   "execution_count": 65,
   "id": "924f1cf6-0f68-4421-bae2-1ce6b2aef391",
   "metadata": {
    "scrolled": true,
    "tags": []
   },
   "outputs": [],
   "source": [
    "# q_tokens = list(filter(lambda t: t not in stopwords , q_tokens))\n",
    "# q_tokens"
   ]
  },
  {
   "cell_type": "code",
   "execution_count": 66,
   "id": "4703b7fd-6c61-4f83-ae04-3f729e8ccd8b",
   "metadata": {},
   "outputs": [
    {
     "data": {
      "text/plain": [
       "9458"
      ]
     },
     "execution_count": 66,
     "metadata": {},
     "output_type": "execute_result"
    }
   ],
   "source": [
    "len(q_msg)"
   ]
  },
  {
   "cell_type": "code",
   "execution_count": 67,
   "id": "872a4bf5-7472-41aa-8302-828b06322c97",
   "metadata": {
    "scrolled": true,
    "tags": []
   },
   "outputs": [
    {
     "data": {
      "text/plain": [
       "[('،', 2434),\n",
       " ('کنید', 1754),\n",
       " ('سلام', 1058),\n",
       " ('\"', 1015),\n",
       " ('کار', 944),\n",
       " ('نیست', 903),\n",
       " ('https', 885),\n",
       " ('نصب', 883),\n",
       " ('های', 773),\n",
       " (']', 767),\n",
       " ('[', 763),\n",
       " ('می', 701),\n",
       " ('=', 648),\n",
       " ('باز', 629),\n",
       " ('-', 612),\n",
       " ('همون', 610),\n",
       " ('پایتون', 610),\n",
       " ('روی', 596),\n",
       " ('کلاس', 586),\n",
       " ('اینکه', 540),\n",
       " ('کد', 514),\n",
       " ('کردن', 512),\n",
       " ('فکر', 489),\n",
       " ('انجام', 488),\n",
       " ('خب', 484),\n",
       " ('حالا', 484),\n",
       " ('بشه', 479),\n",
       " ('ممنون', 471),\n",
       " ('میکنم', 466),\n",
       " ('کنه', 465),\n",
       " ('درست', 464),\n",
       " ('فایل', 457),\n",
       " ('کنین', 444),\n",
       " ('میکنه', 413),\n",
       " ('علی', 406),\n",
       " ('وقتی', 403),\n",
       " ('واقعا', 402),\n",
       " ('ارور', 397),\n",
       " ('بیشتر', 397),\n",
       " ('برنامه', 396)]"
      ]
     },
     "execution_count": 67,
     "metadata": {},
     "output_type": "execute_result"
    }
   ],
   "source": [
    "Counter(q_tokens).most_common(40)"
   ]
  },
  {
   "cell_type": "code",
   "execution_count": null,
   "id": "d3132403-1bf8-414f-ab70-bb7b249f515b",
   "metadata": {},
   "outputs": [],
   "source": []
  },
  {
   "cell_type": "code",
   "execution_count": null,
   "id": "49816e70-f779-4871-83e9-17115fde177f",
   "metadata": {},
   "outputs": [],
   "source": []
  },
  {
   "cell_type": "markdown",
   "id": "5755f5a6-6439-4a3c-923c-038517840c91",
   "metadata": {},
   "source": [
    "# Reply To Statistics"
   ]
  },
  {
   "cell_type": "code",
   "execution_count": 68,
   "id": "3d3a5076-79e3-4938-bec7-ed39b6057219",
   "metadata": {},
   "outputs": [],
   "source": [
    "from collections import defaultdict"
   ]
  },
  {
   "cell_type": "code",
   "execution_count": 69,
   "id": "77257cdd-7759-487d-8de6-bc72a38b8037",
   "metadata": {},
   "outputs": [],
   "source": [
    "\n",
    "x = defaultdict(list)"
   ]
  },
  {
   "cell_type": "code",
   "execution_count": 70,
   "id": "60f0afb3-a555-4b80-b80b-e286dcc0a0b5",
   "metadata": {},
   "outputs": [],
   "source": [
    "users = []\n",
    "\n",
    "# users = defaultdict(list)\n",
    "for msg in data['messages']:\n",
    "    if not msg.get('reply_to_message_id'):\n",
    "        continue\n",
    "    # users[msg['from_id']].append(msg['reply_to_message_id'])\n",
    "    if is_question[msg['reply_to_message_id']] is False:\n",
    "        continue\n",
    "    users.append(msg['from'])"
   ]
  },
  {
   "cell_type": "code",
   "execution_count": 71,
   "id": "cf8f0a7b-73f7-4fa3-bafc-6e98b56d9073",
   "metadata": {},
   "outputs": [
    {
     "data": {
      "text/plain": [
       "[('AliReza Fereydouni', 481),\n",
       " ('Mohammad Ashrafy', 236),\n",
       " ('sina', 213),\n",
       " ('인권 침해', 174),\n",
       " ('Ali Hejazi', 162),\n",
       " ('Mahtab', 119),\n",
       " ('Shirin', 99),\n",
       " ('Koroshkorosh1', 75),\n",
       " (None, 74),\n",
       " ('Reza', 61),\n",
       " ('Jalal Alp.', 57),\n",
       " ('Maryam Kh', 45),\n",
       " ('Rezvan', 45),\n",
       " ('Omid', 43),\n",
       " ('Muhammad', 43),\n",
       " ('FE.honarvar', 43),\n",
       " ('Ablfzl', 42),\n",
       " ('Ali', 37),\n",
       " ('Maryam', 35),\n",
       " ('Mohammad', 34)]"
      ]
     },
     "execution_count": 71,
     "metadata": {},
     "output_type": "execute_result"
    }
   ],
   "source": [
    "Counter(users).most_common(20)"
   ]
  },
  {
   "cell_type": "code",
   "execution_count": 73,
   "id": "73eb4caa-c4c2-4efc-95f5-ff928cb5c40d",
   "metadata": {},
   "outputs": [
    {
     "data": {
      "text/plain": [
       "{'AliReza Fereydouni': 481,\n",
       " 'Mohammad Ashrafy': 236,\n",
       " 'sina': 213,\n",
       " '인권 침해': 174,\n",
       " 'Ali Hejazi': 162,\n",
       " 'Mahtab': 119,\n",
       " 'Shirin': 99,\n",
       " 'Koroshkorosh1': 75,\n",
       " None: 74,\n",
       " 'Reza': 61}"
      ]
     },
     "execution_count": 73,
     "metadata": {},
     "output_type": "execute_result"
    }
   ],
   "source": [
    "bar_data = dict(Counter(users).most_common(10))\n",
    "bar_data"
   ]
  },
  {
   "cell_type": "code",
   "execution_count": 74,
   "id": "bba9ac82-8e31-4dc0-8d62-ef5749b3f85a",
   "metadata": {},
   "outputs": [],
   "source": [
    "import seaborn as sns"
   ]
  },
  {
   "cell_type": "code",
   "execution_count": 75,
   "id": "2f7a445b-aece-43ad-9c28-187f5a0100ea",
   "metadata": {},
   "outputs": [
    {
     "data": {
      "text/plain": [
       "<AxesSubplot:>"
      ]
     },
     "execution_count": 75,
     "metadata": {},
     "output_type": "execute_result"
    },
    {
     "name": "stderr",
     "output_type": "stream",
     "text": [
      "/home/matinus/anaconda3/envs/telegram_statistics/lib/python3.8/site-packages/matplotlib/backends/backend_agg.py:240: RuntimeWarning: Glyph 51064 missing from current font.\n",
      "  font.set_text(s, 0.0, flags=flags)\n",
      "/home/matinus/anaconda3/envs/telegram_statistics/lib/python3.8/site-packages/matplotlib/backends/backend_agg.py:240: RuntimeWarning: Glyph 44428 missing from current font.\n",
      "  font.set_text(s, 0.0, flags=flags)\n",
      "/home/matinus/anaconda3/envs/telegram_statistics/lib/python3.8/site-packages/matplotlib/backends/backend_agg.py:240: RuntimeWarning: Glyph 52840 missing from current font.\n",
      "  font.set_text(s, 0.0, flags=flags)\n",
      "/home/matinus/anaconda3/envs/telegram_statistics/lib/python3.8/site-packages/matplotlib/backends/backend_agg.py:240: RuntimeWarning: Glyph 54644 missing from current font.\n",
      "  font.set_text(s, 0.0, flags=flags)\n",
      "/home/matinus/anaconda3/envs/telegram_statistics/lib/python3.8/site-packages/matplotlib/backends/backend_agg.py:203: RuntimeWarning: Glyph 51064 missing from current font.\n",
      "  font.set_text(s, 0, flags=flags)\n",
      "/home/matinus/anaconda3/envs/telegram_statistics/lib/python3.8/site-packages/matplotlib/backends/backend_agg.py:203: RuntimeWarning: Glyph 44428 missing from current font.\n",
      "  font.set_text(s, 0, flags=flags)\n",
      "/home/matinus/anaconda3/envs/telegram_statistics/lib/python3.8/site-packages/matplotlib/backends/backend_agg.py:203: RuntimeWarning: Glyph 52840 missing from current font.\n",
      "  font.set_text(s, 0, flags=flags)\n",
      "/home/matinus/anaconda3/envs/telegram_statistics/lib/python3.8/site-packages/matplotlib/backends/backend_agg.py:203: RuntimeWarning: Glyph 54644 missing from current font.\n",
      "  font.set_text(s, 0, flags=flags)\n"
     ]
    },
    {
     "data": {
      "image/png": "[encoded data removed]",
      "text/plain": [
       "<Figure size 640x480 with 1 Axes>"
      ]
     },
     "metadata": {},
     "output_type": "display_data"
    }
   ],
   "source": [
    "sns.barplot(y=list(bar_data.keys()), x=list(bar_data.values()))\n",
    "# sns.barplot(y=reply_freq[:20],x=list(range(20)))"
   ]
  },
  {
   "cell_type": "code",
   "execution_count": 76,
   "id": "30713e6a-618d-4006-8437-b77ec79fbba1",
   "metadata": {},
   "outputs": [
    {
     "ename": "AttributeError",
     "evalue": "'list' object has no attribute 'values'",
     "output_type": "error",
     "traceback": [
      "\u001b[0;31m---------------------------------------------------------------------------\u001b[0m",
      "\u001b[0;31mAttributeError\u001b[0m                            Traceback (most recent call last)",
      "Cell \u001b[0;32mIn[76], line 1\u001b[0m\n\u001b[0;32m----> 1\u001b[0m reply_freq \u001b[38;5;241m=\u001b[39m \u001b[38;5;28msorted\u001b[39m(\u001b[38;5;28mlist\u001b[39m(\u001b[38;5;28mmap\u001b[39m(\u001b[38;5;28mlen\u001b[39m, \u001b[43musers\u001b[49m\u001b[38;5;241;43m.\u001b[39;49m\u001b[43mvalues\u001b[49m())), reverse\u001b[38;5;241m=\u001b[39m\u001b[38;5;28;01mTrue\u001b[39;00m)\n\u001b[1;32m      2\u001b[0m sns\u001b[38;5;241m.\u001b[39mbarplot(y\u001b[38;5;241m=\u001b[39mreply_freq[:\u001b[38;5;241m20\u001b[39m],x\u001b[38;5;241m=\u001b[39m\u001b[38;5;28mlist\u001b[39m(\u001b[38;5;28mrange\u001b[39m(\u001b[38;5;241m20\u001b[39m)))\n",
      "\u001b[0;31mAttributeError\u001b[0m: 'list' object has no attribute 'values'"
     ]
    }
   ],
   "source": [
    "# reply_freq = sorted(list(map(len, users.values())), reverse=True)\n",
    "# sns.barplot(y=reply_freq[:20],x=list(range(20)))"
   ]
  },
  {
   "cell_type": "code",
   "execution_count": null,
   "id": "6f65d782-3a28-4af7-9a7e-23031802ea62",
   "metadata": {},
   "outputs": [],
   "source": []
  }
 ],
 "metadata": {
  "kernelspec": {
   "display_name": "Python 3 (ipykernel)",
   "language": "python",
   "name": "python3"
  },
  "language_info": {
   "codemirror_mode": {
    "name": "ipython",
    "version": 3
   },
   "file_extension": ".py",
   "mimetype": "text/x-python",
   "name": "python",
   "nbconvert_exporter": "python",
   "pygments_lexer": "ipython3",
   "version": "3.8.16"
  }
 },
 "nbformat": 4,
 "nbformat_minor": 5
}
